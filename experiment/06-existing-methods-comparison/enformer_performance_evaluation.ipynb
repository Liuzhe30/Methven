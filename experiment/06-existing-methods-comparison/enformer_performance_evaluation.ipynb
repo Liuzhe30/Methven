{
 "cells": [
  {
   "cell_type": "markdown",
   "metadata": {},
   "source": [
    "#### prediction performance of Enformer"
   ]
  },
  {
   "cell_type": "code",
   "execution_count": 1,
   "metadata": {},
   "outputs": [],
   "source": [
    "import numpy as np\n",
    "from tensorflow.keras.utils import to_categorical\n",
    "from sklearn.metrics import precision_score, accuracy_score,recall_score, f1_score\n",
    "import matplotlib.pyplot as plt\n",
    "%matplotlib inline\n",
    "from sklearn.metrics import roc_curve, auc\n",
    "from prettytable import PrettyTable"
   ]
  },
  {
   "cell_type": "code",
   "execution_count": 2,
   "metadata": {},
   "outputs": [],
   "source": [
    "result_path = '../../model/pred_results_tenfold_enformer/'"
   ]
  },
  {
   "cell_type": "code",
   "execution_count": 3,
   "metadata": {},
   "outputs": [
    {
     "name": "stdout",
     "output_type": "stream",
     "text": [
      "+-------+-----------+--------+----------+-------+\n",
      "|  ACC  | Precision | Recall | F1-score |  AUC  |\n",
      "+-------+-----------+--------+----------+-------+\n",
      "| 0.866 |   0.878   | 0.859  |  0.868   | 0.937 |\n",
      "+-------+-----------+--------+----------+-------+\n",
      "+-------+-----------+--------+----------+-------+\n",
      "|  ACC  | Precision | Recall | F1-score |  AUC  |\n",
      "+-------+-----------+--------+----------+-------+\n",
      "| 0.869 |   0.884   | 0.857  |   0.87   | 0.938 |\n",
      "+-------+-----------+--------+----------+-------+\n",
      "+-------+-----------+--------+----------+-------+\n",
      "|  ACC  | Precision | Recall | F1-score |  AUC  |\n",
      "+-------+-----------+--------+----------+-------+\n",
      "| 0.864 |   0.859   | 0.872  |  0.865   | 0.931 |\n",
      "+-------+-----------+--------+----------+-------+\n",
      "+-------+-----------+--------+----------+-------+\n",
      "|  ACC  | Precision | Recall | F1-score |  AUC  |\n",
      "+-------+-----------+--------+----------+-------+\n",
      "| 0.872 |   0.871   | 0.869  |   0.87   | 0.938 |\n",
      "+-------+-----------+--------+----------+-------+\n",
      "+-------+-----------+--------+----------+-------+\n",
      "|  ACC  | Precision | Recall | F1-score |  AUC  |\n",
      "+-------+-----------+--------+----------+-------+\n",
      "| 0.864 |   0.866   | 0.866  |  0.866   | 0.929 |\n",
      "+-------+-----------+--------+----------+-------+\n",
      "+-------+-----------+--------+----------+-------+\n",
      "|  ACC  | Precision | Recall | F1-score |  AUC  |\n",
      "+-------+-----------+--------+----------+-------+\n",
      "| 0.883 |   0.861   | 0.906  |  0.883   | 0.941 |\n",
      "+-------+-----------+--------+----------+-------+\n",
      "+-------+-----------+--------+----------+-------+\n",
      "|  ACC  | Precision | Recall | F1-score |  AUC  |\n",
      "+-------+-----------+--------+----------+-------+\n",
      "| 0.865 |   0.859   | 0.878  |  0.868   | 0.932 |\n",
      "+-------+-----------+--------+----------+-------+\n",
      "+-------+-----------+--------+----------+-------+\n",
      "|  ACC  | Precision | Recall | F1-score |  AUC  |\n",
      "+-------+-----------+--------+----------+-------+\n",
      "| 0.864 |   0.861   | 0.864  |  0.863   | 0.931 |\n",
      "+-------+-----------+--------+----------+-------+\n",
      "+-------+-----------+--------+----------+-------+\n",
      "|  ACC  | Precision | Recall | F1-score |  AUC  |\n",
      "+-------+-----------+--------+----------+-------+\n",
      "| 0.845 |   0.843   | 0.839  |  0.841   | 0.924 |\n",
      "+-------+-----------+--------+----------+-------+\n",
      "+------+-----------+--------+----------+-------+\n",
      "| ACC  | Precision | Recall | F1-score |  AUC  |\n",
      "+------+-----------+--------+----------+-------+\n",
      "| 0.85 |    0.85   | 0.852  |  0.851   | 0.923 |\n",
      "+------+-----------+--------+----------+-------+\n",
      "(mean) ACC:  0.8642 Precision:  0.8632 Recall:  0.8662000000000001 F1:  0.8644999999999999 AUC:  0.9324\n",
      "(std) ACC:  0.010057832768544136 Precision:  0.011608617488745171 Recall:  0.016874833332510296 F1:  0.010800462953040496 AUC:  0.005765414122159796\n"
     ]
    }
   ],
   "source": [
    "model_size = 'small'\n",
    "acc_list = []\n",
    "precision_list = []\n",
    "recall_list = []\n",
    "f1_list = []\n",
    "auc_list = []\n",
    "for f in range(10):\n",
    "    fold = str(f+1)\n",
    "    label = np.load(result_path + model_size + '_split' + fold + '_label.npy')\n",
    "    y_score = np.load(result_path + model_size +'_split' + fold + '_score.npy')\n",
    "    y_score_pro = np.load(result_path + model_size + '_split' + fold + '_score_pro.npy')\n",
    "    y_one_hot = to_categorical(label)\n",
    "    y_score_one_hot = to_categorical(y_score)\n",
    "\n",
    "    acc = np.round(accuracy_score(label, y_score),3)\n",
    "    precision = np.round(precision_score(label, y_score),3)\n",
    "    recall = np.round(recall_score(label, y_score),3)\n",
    "    f1 = np.round(f1_score(label, y_score),3)\n",
    "    fpr, tpr, thresholds = roc_curve(y_one_hot.ravel(),y_score_pro.ravel()) \n",
    "    auc_ = np.round(auc(fpr, tpr),3)\n",
    "\n",
    "    table = PrettyTable(['ACC','Precision','Recall','F1-score','AUC'])\n",
    "    table.add_row([acc,precision,recall,f1,auc_])\n",
    "    print(table)\n",
    "\n",
    "    acc_list.append(acc)\n",
    "    precision_list.append(precision)\n",
    "    recall_list.append(recall)\n",
    "    f1_list.append(f1)\n",
    "    auc_list.append(auc_)\n",
    "\n",
    "print('(mean) ACC: ', np.mean(acc_list), 'Precision: ', np.mean(precision_list), 'Recall: ', np.mean(recall_list), 'F1: ', np.mean(f1_list), 'AUC: ', np.mean(auc_list))\n",
    "print('(std) ACC: ', np.std(acc_list), 'Precision: ', np.std(precision_list), 'Recall: ', np.std(recall_list), 'F1: ', np.std(f1_list), 'AUC: ', np.std(auc_list))"
   ]
  }
 ],
 "metadata": {
  "kernelspec": {
   "display_name": "Python 3.9.12 64-bit",
   "language": "python",
   "name": "python3"
  },
  "language_info": {
   "codemirror_mode": {
    "name": "ipython",
    "version": 3
   },
   "file_extension": ".py",
   "mimetype": "text/x-python",
   "name": "python",
   "nbconvert_exporter": "python",
   "pygments_lexer": "ipython3",
   "version": "3.9.12"
  },
  "orig_nbformat": 4,
  "vscode": {
   "interpreter": {
    "hash": "6fff98fc3b3d81bd655c2cc48858186e4d9e2db7b515bf1c3221888f12a62f87"
   }
  }
 },
 "nbformat": 4,
 "nbformat_minor": 2
}

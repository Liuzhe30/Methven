{
 "cells": [
  {
   "cell_type": "code",
   "execution_count": 1,
   "metadata": {},
   "outputs": [],
   "source": [
    "import numpy as np\n",
    "import pandas as pd\n",
    "from sklearn.ensemble import RandomForestClassifier\n",
    "from sklearn.metrics import precision_score, accuracy_score,recall_score, f1_score\n",
    "import matplotlib.pyplot as plt\n",
    "%matplotlib inline\n",
    "from sklearn.metrics import roc_curve, auc\n",
    "from prettytable import PrettyTable\n",
    "from tensorflow.keras.utils import to_categorical"
   ]
  },
  {
   "cell_type": "code",
   "execution_count": 2,
   "metadata": {},
   "outputs": [
    {
     "name": "stderr",
     "output_type": "stream",
     "text": [
      "c:\\Users\\Administrator\\AppData\\Local\\Programs\\Python\\Python39\\lib\\site-packages\\sklearn\\metrics\\_classification.py:1327: UndefinedMetricWarning: Precision is ill-defined and being set to 0.0 due to no predicted samples. Use `zero_division` parameter to control this behavior.\n",
      "  _warn_prf(average, modifier, msg_start, len(result))\n"
     ]
    },
    {
     "name": "stdout",
     "output_type": "stream",
     "text": [
      "+---------------------+-----------+--------+----------+---------------------+\n",
      "|         ACC         | Precision | Recall | F1-score |         AUC         |\n",
      "+---------------------+-----------+--------+----------+---------------------+\n",
      "| 0.48742138364779874 |    0.0    |  0.0   |   0.0    | 0.48742138364779874 |\n",
      "+---------------------+-----------+--------+----------+---------------------+\n",
      "+-------------------+--------------------+--------------------+-------------------+--------------------+\n",
      "|        ACC        |     Precision      |       Recall       |      F1-score     |        AUC         |\n",
      "+-------------------+--------------------+--------------------+-------------------+--------------------+\n",
      "| 0.909433962264151 | 0.9148148148148149 | 0.9080882352941176 | 0.911439114391144 | 0.9532910090581859 |\n",
      "+-------------------+--------------------+--------------------+-------------------+--------------------+\n"
     ]
    },
    {
     "name": "stderr",
     "output_type": "stream",
     "text": [
      "c:\\Users\\Administrator\\AppData\\Local\\Programs\\Python\\Python39\\lib\\site-packages\\sklearn\\metrics\\_classification.py:1327: UndefinedMetricWarning: Precision is ill-defined and being set to 0.0 due to no predicted samples. Use `zero_division` parameter to control this behavior.\n",
      "  _warn_prf(average, modifier, msg_start, len(result))\n"
     ]
    },
    {
     "name": "stdout",
     "output_type": "stream",
     "text": [
      "+--------------------+-----------+--------+----------+--------------------+\n",
      "|        ACC         | Precision | Recall | F1-score |        AUC         |\n",
      "+--------------------+-----------+--------+----------+--------------------+\n",
      "| 0.4987421383647799 |    0.0    |  0.0   |   0.0    | 0.4987421383647799 |\n",
      "+--------------------+-----------+--------+----------+--------------------+\n",
      "+--------------------+--------------------+--------------------+--------------------+--------------------+\n",
      "|        ACC         |     Precision      |       Recall       |      F1-score      |        AUC         |\n",
      "+--------------------+--------------------+--------------------+--------------------+--------------------+\n",
      "| 0.9257861635220126 | 0.9272030651340997 | 0.9224904701397713 | 0.9248407643312103 | 0.9774213836477987 |\n",
      "+--------------------+--------------------+--------------------+--------------------+--------------------+\n",
      "+--------------------+--------------------+-------------------+--------------------+--------------------+\n",
      "|        ACC         |     Precision      |       Recall      |      F1-score      |        AUC         |\n",
      "+--------------------+--------------------+-------------------+--------------------+--------------------+\n",
      "| 0.9037735849056604 | 0.9269882659713168 | 0.879950495049505 | 0.9028571428571429 | 0.9515355405245046 |\n",
      "+--------------------+--------------------+-------------------+--------------------+--------------------+\n",
      "+--------------------+--------------------+--------------------+--------------------+--------------------+\n",
      "|        ACC         |     Precision      |       Recall       |      F1-score      |        AUC         |\n",
      "+--------------------+--------------------+--------------------+--------------------+--------------------+\n",
      "| 0.9056603773584906 | 0.9205921938088829 | 0.8825806451612903 | 0.9011857707509882 | 0.9472038289624619 |\n",
      "+--------------------+--------------------+--------------------+--------------------+--------------------+\n",
      "+--------------------+-------------------+-------------------+--------------------+--------------------+\n",
      "|        ACC         |     Precision     |       Recall      |      F1-score      |        AUC         |\n",
      "+--------------------+-------------------+-------------------+--------------------+--------------------+\n",
      "| 0.9132075471698113 | 0.904993909866017 | 0.925280199252802 | 0.9150246305418719 | 0.9551776037340296 |\n",
      "+--------------------+-------------------+-------------------+--------------------+--------------------+\n",
      "+--------------------+--------------------+--------------------+-------------------+--------------------+\n",
      "|        ACC         |     Precision      |       Recall       |      F1-score     |        AUC         |\n",
      "+--------------------+--------------------+--------------------+-------------------+--------------------+\n",
      "| 0.9088050314465409 | 0.8980099502487562 | 0.9197452229299363 | 0.908747640025173 | 0.9464382342470632 |\n",
      "+--------------------+--------------------+--------------------+-------------------+--------------------+\n",
      "+---------------------+---------------------+--------+--------------------+---------------------+\n",
      "|         ACC         |      Precision      | Recall |      F1-score      |         AUC         |\n",
      "+---------------------+---------------------+--------+--------------------+---------------------+\n",
      "| 0.48742138364779874 | 0.48742138364779874 |  1.0   | 0.6553911205073996 | 0.48742138364779874 |\n",
      "+---------------------+---------------------+--------+--------------------+---------------------+\n",
      "+--------------------+-------------------+--------------------+--------------------+-------------------+\n",
      "|        ACC         |     Precision     |       Recall       |      F1-score      |        AUC        |\n",
      "+--------------------+-------------------+--------------------+--------------------+-------------------+\n",
      "| 0.8691000629326621 | 0.896505376344086 | 0.8358395989974937 | 0.8651102464332036 | 0.913487986356801 |\n",
      "+--------------------+-------------------+--------------------+--------------------+-------------------+\n",
      "(mean) ACC:  0.7809351635259707 Precision:  0.6876528959835773 Recall:  0.7273974866824916 F1:  0.6984596429838132 AUC:  0.8118140492191221\n",
      "(std) ACC:  0.19018220939410674 Precision:  0.36625963346981455 Recall:  0.3658559690224348 F1:  0.35720097854367355 AUC:  0.21042423832415663\n"
     ]
    }
   ],
   "source": [
    "# finetune\n",
    "file_path = '../../model/middle_output_tenfold_cpgenie/'\n",
    "test_path = '../../model/middle_output_tenfold_cpgenie'\n",
    "model_size = 'small'\n",
    "\n",
    "acc_list = []\n",
    "precision_list = []\n",
    "recall_list = []\n",
    "f1_list = []\n",
    "auc_list = []\n",
    "for f in range(10):\n",
    "    fold = str(f+1)\n",
    "    # training model\n",
    "\n",
    "    X_train = np.load(file_path + model_size + '_split' + fold + '_output.npy')\n",
    "    Y_train = np.load(file_path + model_size + '_split' + fold + '_label.npy').astype(\"int\").argmax(axis=1)\n",
    "\n",
    "    clf = RandomForestClassifier()\n",
    "    clf.fit(X_train,Y_train)\n",
    "\n",
    "    # prediction output\n",
    "    X_test = np.load(file_path + model_size + '_split' + fold + '_output_test.npy')\n",
    "    label = np.load(file_path + model_size + '_split' + fold + '_label_test.npy').astype(\"int\").argmax(axis=1)\n",
    "\n",
    "    y_score = clf.predict(X_test)                                   \n",
    "    y_score_pro = clf.predict_proba(X_test) # (.., 2)\n",
    "\n",
    "    y_one_hot = to_categorical(label)\n",
    "    y_score_one_hot = to_categorical(y_score)\n",
    "\n",
    "    acc = accuracy_score(label, y_score)\n",
    "    precision = precision_score(label, y_score)\n",
    "    recall = recall_score(label, y_score)\n",
    "    f1 = f1_score(label, y_score)\n",
    "    fpr, tpr, thresholds = roc_curve(y_one_hot.ravel(),y_score_pro.ravel()) \n",
    "    auc_ = auc(fpr, tpr)\n",
    "\n",
    "    table = PrettyTable(['ACC','Precision','Recall','F1-score','AUC'])\n",
    "    table.add_row([acc,precision,recall,f1,auc_])\n",
    "    print(table)\n",
    "\n",
    "    acc_list.append(acc)\n",
    "    precision_list.append(precision)\n",
    "    recall_list.append(recall)\n",
    "    f1_list.append(f1)\n",
    "    auc_list.append(auc_)\n",
    "\n",
    "print('(mean) ACC: ', np.mean(acc_list), 'Precision: ', np.mean(precision_list), 'Recall: ', np.mean(recall_list), 'F1: ', np.mean(f1_list), 'AUC: ', np.mean(auc_list))\n",
    "print('(std) ACC: ', np.std(acc_list), 'Precision: ', np.std(precision_list), 'Recall: ', np.std(recall_list), 'F1: ', np.std(f1_list), 'AUC: ', np.std(auc_list))"
   ]
  }
 ],
 "metadata": {
  "kernelspec": {
   "display_name": "Python 3.9.12 64-bit",
   "language": "python",
   "name": "python3"
  },
  "language_info": {
   "codemirror_mode": {
    "name": "ipython",
    "version": 3
   },
   "file_extension": ".py",
   "mimetype": "text/x-python",
   "name": "python",
   "nbconvert_exporter": "python",
   "pygments_lexer": "ipython3",
   "version": "3.9.12"
  },
  "orig_nbformat": 4,
  "vscode": {
   "interpreter": {
    "hash": "6fff98fc3b3d81bd655c2cc48858186e4d9e2db7b515bf1c3221888f12a62f87"
   }
  }
 },
 "nbformat": 4,
 "nbformat_minor": 2
}
